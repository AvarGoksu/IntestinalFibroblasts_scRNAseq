{
 "cells": [
  {
   "cell_type": "code",
   "execution_count": 1,
   "id": "8f2cc709-6358-4b0c-927d-938d554af690",
   "metadata": {},
   "outputs": [],
   "source": [
    "import numpy as np\n",
    "import pandas as pd\n",
    "import scanpy as sc\n",
    "import matplotlib as mpl\n",
    "import matplotlib.pyplot as plt\n",
    "from colorspacious import cspace_converter"
   ]
  },
  {
   "cell_type": "code",
   "execution_count": 2,
   "id": "14581fb6-a390-49db-ae44-a109e7511b05",
   "metadata": {},
   "outputs": [
    {
     "name": "stderr",
     "output_type": "stream",
     "text": [
      "/home/ubuntu/anaconda3/envs/scanpy/lib/python3.11/site-packages/umap/distances.py:1063: NumbaDeprecationWarning: \u001b[1mThe 'nopython' keyword argument was not supplied to the 'numba.jit' decorator. The implicit default value for this argument is currently False, but it will be changed to True in Numba 0.59.0. See https://numba.readthedocs.io/en/stable/reference/deprecation.html#deprecation-of-object-mode-fall-back-behaviour-when-using-jit for details.\u001b[0m\n",
      "  @numba.jit()\n",
      "/home/ubuntu/anaconda3/envs/scanpy/lib/python3.11/site-packages/umap/distances.py:1071: NumbaDeprecationWarning: \u001b[1mThe 'nopython' keyword argument was not supplied to the 'numba.jit' decorator. The implicit default value for this argument is currently False, but it will be changed to True in Numba 0.59.0. See https://numba.readthedocs.io/en/stable/reference/deprecation.html#deprecation-of-object-mode-fall-back-behaviour-when-using-jit for details.\u001b[0m\n",
      "  @numba.jit()\n",
      "/home/ubuntu/anaconda3/envs/scanpy/lib/python3.11/site-packages/umap/distances.py:1086: NumbaDeprecationWarning: \u001b[1mThe 'nopython' keyword argument was not supplied to the 'numba.jit' decorator. The implicit default value for this argument is currently False, but it will be changed to True in Numba 0.59.0. See https://numba.readthedocs.io/en/stable/reference/deprecation.html#deprecation-of-object-mode-fall-back-behaviour-when-using-jit for details.\u001b[0m\n",
      "  @numba.jit()\n"
     ]
    },
    {
     "name": "stdout",
     "output_type": "stream",
     "text": [
      "scanpy==1.9.3 anndata==0.9.2 umap==0.5.3 numpy==1.24.3 scipy==1.11.1 pandas==1.5.3 scikit-learn==1.1.3 statsmodels==0.14.0 python-igraph==0.10.6 pynndescent==0.5.10\n"
     ]
    },
    {
     "name": "stderr",
     "output_type": "stream",
     "text": [
      "/home/ubuntu/anaconda3/envs/scanpy/lib/python3.11/site-packages/umap/umap_.py:660: NumbaDeprecationWarning: \u001b[1mThe 'nopython' keyword argument was not supplied to the 'numba.jit' decorator. The implicit default value for this argument is currently False, but it will be changed to True in Numba 0.59.0. See https://numba.readthedocs.io/en/stable/reference/deprecation.html#deprecation-of-object-mode-fall-back-behaviour-when-using-jit for details.\u001b[0m\n",
      "  @numba.jit()\n"
     ]
    }
   ],
   "source": [
    "sc.settings.verbosity = 3             # verbosity: errors (0), warnings (1), info (2), hints (3)\n",
    "sc.logging.print_header()\n",
    "sc.settings.set_figure_params(dpi=80, facecolor='white')"
   ]
  },
  {
   "cell_type": "code",
   "execution_count": 4,
   "id": "df6d796e-a45e-4e20-98f3-5efd5ba8b686",
   "metadata": {},
   "outputs": [],
   "source": [
    "adata = sc.read_csv('/vol/ExtraVol/MergedData_Preprocessed.csv')\n",
    "adata = adata.T"
   ]
  },
  {
   "cell_type": "code",
   "execution_count": 5,
   "id": "c7477e99-7d89-4ae6-93ec-4c922faaf0c6",
   "metadata": {},
   "outputs": [],
   "source": [
    "anno = pd.read_csv('/vol/ExtraVol/MergedData_Preprocessed_Metadata.csv')"
   ]
  },
  {
   "cell_type": "code",
   "execution_count": 6,
   "id": "9a2302d9-b7c4-452d-94a8-330d47130f8e",
   "metadata": {},
   "outputs": [],
   "source": [
    "adata.obs = anno"
   ]
  },
  {
   "cell_type": "code",
   "execution_count": 7,
   "id": "a5320f5e-20b8-49d5-b4b9-c716cc9c6e77",
   "metadata": {},
   "outputs": [
    {
     "data": {
      "text/plain": [
       "AnnData object with n_obs × n_vars = 62874 × 40879\n",
       "    obs: 'Unnamed: 0', 'orig.ident', 'nCount_RNA', 'nFeature_RNA', 'Sample_ID', 'stage', 'percent.mt', 'CellName', 'doublet_finder', 'Doublet_classification'"
      ]
     },
     "execution_count": 7,
     "metadata": {},
     "output_type": "execute_result"
    }
   ],
   "source": [
    "adata"
   ]
  },
  {
   "cell_type": "code",
   "execution_count": 8,
   "id": "0f78aff0-266b-468e-90ad-b85b13bdcef3",
   "metadata": {},
   "outputs": [
    {
     "data": {
      "text/plain": [
       "Index(['Gm26206', 'Xkr4', 'Gm53491', 'Rp1', 'Sox17', 'Gm22307', 'Gm37323',\n",
       "       'Gm39586', 'Gm46082', 'Gm29874',\n",
       "       ...\n",
       "       'ND4', 'TrnH', 'TrnS2', 'TrnL2', 'ND5', 'ND6', 'TrnE', 'CYTB', 'TrnT',\n",
       "       'TrnP'],\n",
       "      dtype='object', length=40879)"
      ]
     },
     "execution_count": 8,
     "metadata": {},
     "output_type": "execute_result"
    }
   ],
   "source": [
    "adata.var_names"
   ]
  },
  {
   "cell_type": "code",
   "execution_count": 9,
   "id": "d47b750c-b836-4090-8f30-c8335b4f46ef",
   "metadata": {},
   "outputs": [],
   "source": [
    "adata.write_h5ad(\"/vol/ExtraVol/MergedData_Preprocessed.h5ad\") "
   ]
  },
  {
   "cell_type": "code",
   "execution_count": null,
   "id": "39b1dfc5-cd36-48cb-9638-d5e2f2231b82",
   "metadata": {},
   "outputs": [],
   "source": [
    "### FINISH HERE ###"
   ]
  },
  {
   "cell_type": "code",
   "execution_count": null,
   "id": "5e264e0f-bc68-4b19-b75e-7ff58cb3b552",
   "metadata": {},
   "outputs": [],
   "source": [
    "sc.pl.paga(adata, color=['leiden'])"
   ]
  },
  {
   "cell_type": "code",
   "execution_count": null,
   "id": "f1572520-3b77-4047-8ccd-6ce224cd35eb",
   "metadata": {},
   "outputs": [],
   "source": [
    "adata.uns['iroot'] = np.flatnonzero((adata.obs['stage'] == 'embryonic'))[0]"
   ]
  },
  {
   "cell_type": "code",
   "execution_count": null,
   "id": "4d470d11-be08-4527-a87c-5c1bde338247",
   "metadata": {},
   "outputs": [],
   "source": [
    "sc.tl.dpt(adata)"
   ]
  },
  {
   "cell_type": "code",
   "execution_count": null,
   "id": "44d6bf28-b839-4837-b2a6-25cca9386466",
   "metadata": {},
   "outputs": [],
   "source": [
    "sc.pl.umap(adata, color=['leiden', 'dpt_pseudotime'], legend_loc='on data')"
   ]
  },
  {
   "cell_type": "code",
   "execution_count": null,
   "id": "351044bb-c952-44a4-a002-44c75d88791e",
   "metadata": {},
   "outputs": [],
   "source": [
    "sc.tl.rank_genes_groups(adata, 'leiden', method='wilcoxon', use_raw = False)\n",
    "sc.pl.rank_genes_groups(adata, n_genes=25, sharey=False)"
   ]
  },
  {
   "cell_type": "code",
   "execution_count": null,
   "id": "558ba168-26f8-4d76-af79-2377a74b67f1",
   "metadata": {},
   "outputs": [],
   "source": [
    "sc.tl.rank_genes_groups(adata, 'leiden', method='wilcoxon', use_raw = False, groups = ['15'], reference = '12',)\n",
    "sc.pl.rank_genes_groups(adata, n_genes=25, sharey=False)"
   ]
  },
  {
   "cell_type": "code",
   "execution_count": null,
   "id": "bde106fb-d8e7-4d31-9b3f-60a14666e41b",
   "metadata": {},
   "outputs": [],
   "source": [
    "adata.obs['cell_type'] = adata.obs['cell_type'].cat.add_categories(['Adamdec1+_adult_fibroblasts'])\n",
    "\n",
    "# Define the clusters of interest\n",
    "clusters_of_interest = {'0'}\n",
    "\n",
    "# Use the isin method to create a boolean mask of the cells that are in the clusters of interest\n",
    "mask = adata.obs['leiden'].isin(clusters_of_interest)\n",
    "\n",
    "# Update the 'cell_type' column based on the mask\n",
    "adata.obs.loc[mask, 'cell_type'] = 'Adamdec1+_adult_fibroblasts'"
   ]
  },
  {
   "cell_type": "code",
   "execution_count": null,
   "id": "db58ae3e-0ac5-4acf-bed0-4dbdd7948178",
   "metadata": {},
   "outputs": [],
   "source": [
    "adata.obs['cell_type'] = adata.obs['cell_type'].cat.add_categories(['Ogn+_adult_fibroblasts'])\n",
    "\n",
    "# Define the clusters of interest\n",
    "clusters_of_interest = {'1'}\n",
    "\n",
    "# Use the isin method to create a boolean mask of the cells that are in the clusters of interest\n",
    "mask = adata.obs['leiden'].isin(clusters_of_interest)\n",
    "\n",
    "# Update the 'cell_type' column based on the mask\n",
    "adata.obs.loc[mask, 'cell_type'] = 'Ogn+_adult_fibroblasts'"
   ]
  },
  {
   "cell_type": "code",
   "execution_count": null,
   "id": "40f78317-37c9-4048-b3f0-a7f6835cf409",
   "metadata": {},
   "outputs": [],
   "source": [
    "adata.obs['cell_type'] = adata.obs['cell_type'].cat.add_categories(['Jam2+_cells'])\n",
    "\n",
    "# Define the clusters of interest\n",
    "clusters_of_interest = {'18'}\n",
    "\n",
    "# Use the isin method to create a boolean mask of the cells that are in the clusters of interest\n",
    "mask = adata.obs['leiden'].isin(clusters_of_interest)\n",
    "\n",
    "# Update the 'cell_type' column based on the mask\n",
    "adata.obs.loc[mask, 'cell_type'] = 'Jam2+_cells'"
   ]
  },
  {
   "cell_type": "code",
   "execution_count": null,
   "id": "a944cbcc-a1ef-411b-a08c-94f223f38012",
   "metadata": {},
   "outputs": [],
   "source": [
    "adata.obs['cell_type'] = adata.obs['cell_type'].cat.add_categories(['Sox6+Bmp5+Tcf4+_adult_fibroblasts'])\n",
    "\n",
    "# Define the clusters of interest\n",
    "clusters_of_interest = {'7'}\n",
    "\n",
    "# Use the isin method to create a boolean mask of the cells that are in the clusters of interest\n",
    "mask = adata.obs['leiden'].isin(clusters_of_interest)\n",
    "\n",
    "# Update the 'cell_type' column based on the mask\n",
    "adata.obs.loc[mask, 'cell_type'] = 'Sox6+Bmp5+Tcf4+_adult_fibroblasts'"
   ]
  },
  {
   "cell_type": "code",
   "execution_count": null,
   "id": "9ec521b3-9904-4309-9b8e-0362afb34272",
   "metadata": {},
   "outputs": [],
   "source": [
    "adata.obs['cell_type'] = adata.obs['cell_type'].cat.add_categories(['Adamdec1+_AW_fibroblasts'])\n",
    "\n",
    "# Define the clusters of interest\n",
    "clusters_of_interest = {'5'}\n",
    "\n",
    "# Use the isin method to create a boolean mask of the cells that are in the clusters of interest\n",
    "mask = adata.obs['leiden'].isin(clusters_of_interest)\n",
    "\n",
    "# Update the 'cell_type' column based on the mask\n",
    "adata.obs.loc[mask, 'cell_type'] = 'Adamdec1+_AW_fibroblasts'"
   ]
  },
  {
   "cell_type": "code",
   "execution_count": null,
   "id": "adea627c-6056-4e29-9014-8e1a0b6408ef",
   "metadata": {},
   "outputs": [],
   "source": [
    "adata.obs['cell_type'] = adata.obs['cell_type'].cat.add_categories(['Ogn+_AW_fibroblasts'])\n",
    "\n",
    "# Define the clusters of interest\n",
    "clusters_of_interest = {'4'}\n",
    "\n",
    "# Use the isin method to create a boolean mask of the cells that are in the clusters of interest\n",
    "mask = adata.obs['leiden'].isin(clusters_of_interest)\n",
    "\n",
    "# Update the 'cell_type' column based on the mask\n",
    "adata.obs.loc[mask, 'cell_type'] = 'Ogn+_AW_fibroblasts'"
   ]
  },
  {
   "cell_type": "code",
   "execution_count": null,
   "id": "c4fedfbf-b6b5-4d93-8ebe-0f8d4778b6cd",
   "metadata": {},
   "outputs": [],
   "source": [
    "adata.obs['cell_type'] = adata.obs['cell_type'].cat.add_categories(['Ncam1+_newborn_cells'])\n",
    "\n",
    "# Define the clusters of interest\n",
    "clusters_of_interest = {'2'}\n",
    "\n",
    "# Use the isin method to create a boolean mask of the cells that are in the clusters of interest\n",
    "mask = adata.obs['leiden'].isin(clusters_of_interest)\n",
    "\n",
    "# Update the 'cell_type' column based on the mask\n",
    "adata.obs.loc[mask, 'cell_type'] = 'Ncam1+_newborn_cells'"
   ]
  },
  {
   "cell_type": "code",
   "execution_count": null,
   "id": "100cf73b-1592-4066-94e0-b6f1427af422",
   "metadata": {},
   "outputs": [],
   "source": [
    "adata.obs['cell_type'] = adata.obs['cell_type'].cat.add_categories(['Jam2+_newborn_cells'])\n",
    "\n",
    "# Define the clusters of interest\n",
    "clusters_of_interest = {'8'}\n",
    "\n",
    "# Use the isin method to create a boolean mask of the cells that are in the clusters of interest\n",
    "mask = adata.obs['leiden'].isin(clusters_of_interest)\n",
    "\n",
    "# Update the 'cell_type' column based on the mask\n",
    "adata.obs.loc[mask, 'cell_type'] = 'Jam2+_newborn_cells'"
   ]
  },
  {
   "cell_type": "code",
   "execution_count": null,
   "id": "7679badf-fa47-46a4-9366-c5f22aaebd29",
   "metadata": {},
   "outputs": [],
   "source": [
    "adata.obs['cell_type'] = adata.obs['cell_type'].cat.add_categories(['Igf2+_newborn_cells'])\n",
    "\n",
    "# Define the clusters of interest\n",
    "clusters_of_interest = {'9'}\n",
    "\n",
    "# Use the isin method to create a boolean mask of the cells that are in the clusters of interest\n",
    "mask = adata.obs['leiden'].isin(clusters_of_interest)\n",
    "\n",
    "# Update the 'cell_type' column based on the mask\n",
    "adata.obs.loc[mask, 'cell_type'] = 'Igf2+_newborn_cells'"
   ]
  },
  {
   "cell_type": "code",
   "execution_count": null,
   "id": "6358ca8d-2d11-40d1-a5d6-15d89cd97d4e",
   "metadata": {},
   "outputs": [],
   "source": [
    "adata.obs['cell_type'] = adata.obs['cell_type'].cat.add_categories(['Colec10+_embryonic_cells'])\n",
    "\n",
    "# Define the clusters of interest\n",
    "clusters_of_interest = {'3', '10'}\n",
    "\n",
    "# Use the isin method to create a boolean mask of the cells that are in the clusters of interest\n",
    "mask = adata.obs['leiden'].isin(clusters_of_interest)\n",
    "\n",
    "# Update the 'cell_type' column based on the mask\n",
    "adata.obs.loc[mask, 'cell_type'] = 'Colec10+_embryonic_cells'"
   ]
  },
  {
   "cell_type": "code",
   "execution_count": null,
   "id": "71ab1fca-7cd3-4298-80aa-c470c0b7cb00",
   "metadata": {},
   "outputs": [],
   "source": [
    "adata.obs['cell_type'] = adata.obs['cell_type'].cat.add_categories(['Sox6+Bmp5+Tcf4+_embryonic_cells'])\n",
    "\n",
    "# Define the clusters of interest\n",
    "clusters_of_interest = {'17'}\n",
    "\n",
    "# Use the isin method to create a boolean mask of the cells that are in the clusters of interest\n",
    "mask = adata.obs['leiden'].isin(clusters_of_interest)\n",
    "\n",
    "# Update the 'cell_type' column based on the mask\n",
    "adata.obs.loc[mask, 'cell_type'] = 'Sox6+Bmp5+Tcf4+_embryonic_cells'"
   ]
  },
  {
   "cell_type": "code",
   "execution_count": null,
   "id": "50ab1a67-35e4-4764-b3ae-5061e37c30e0",
   "metadata": {},
   "outputs": [],
   "source": [
    "adata.obs['cell_type'] = adata.obs['cell_type'].cat.add_categories(['Igf2+_embryonic_cells'])\n",
    "\n",
    "# Define the clusters of interest\n",
    "clusters_of_interest = {'6','12','15'}\n",
    "\n",
    "# Use the isin method to create a boolean mask of the cells that are in the clusters of interest\n",
    "mask = adata.obs['leiden'].isin(clusters_of_interest)\n",
    "\n",
    "# Update the 'cell_type' column based on the mask\n",
    "adata.obs.loc[mask, 'cell_type'] = 'Igf2+_embryonic_cells'"
   ]
  },
  {
   "cell_type": "code",
   "execution_count": null,
   "id": "d3bfa5ab-509a-4222-aaa0-8305f75fe4e9",
   "metadata": {},
   "outputs": [],
   "source": [
    "sc.pl.umap(adata, color=['cell_type'])"
   ]
  },
  {
   "cell_type": "code",
   "execution_count": null,
   "id": "2d4b9ef9-f5c1-4aa8-a070-8d465f3f2a0d",
   "metadata": {},
   "outputs": [],
   "source": [
    "adata.write_h5ad(\"/vol/ExtraVol/Development_CellTypeAssigned.h5ad\") "
   ]
  },
  {
   "cell_type": "code",
   "execution_count": null,
   "id": "6cf254cf-bd2c-4f2b-af7b-8077749d4784",
   "metadata": {},
   "outputs": [],
   "source": []
  }
 ],
 "metadata": {
  "kernelspec": {
   "display_name": "Python 3 (ipykernel)",
   "language": "python",
   "name": "python3"
  },
  "language_info": {
   "codemirror_mode": {
    "name": "ipython",
    "version": 3
   },
   "file_extension": ".py",
   "mimetype": "text/x-python",
   "name": "python",
   "nbconvert_exporter": "python",
   "pygments_lexer": "ipython3",
   "version": "3.11.4"
  }
 },
 "nbformat": 4,
 "nbformat_minor": 5
}
