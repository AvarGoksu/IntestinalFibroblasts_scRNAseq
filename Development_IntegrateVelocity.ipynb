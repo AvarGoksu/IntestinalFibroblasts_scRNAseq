{
 "cells": [
  {
   "cell_type": "code",
   "execution_count": 1,
   "id": "f297519f-0e41-47c3-b512-d44b7146071d",
   "metadata": {},
   "outputs": [],
   "source": [
    "import numpy as np\n",
    "import pandas as pd\n",
    "import scanpy as sc\n",
    "import matplotlib as mpl\n",
    "import matplotlib.pyplot as plt\n",
    "import anndata as ad\n",
    "from colorspacious import cspace_converter\n",
    "import scvelo as scv\n",
    "import loompy"
   ]
  },
  {
   "cell_type": "code",
   "execution_count": 9,
   "id": "21812ac8-90d6-48b2-ac55-7530325862de",
   "metadata": {},
   "outputs": [],
   "source": [
    "adata = sc.read_h5ad(\"/vol/ExtraVol/Development_CellTypeAssigned.h5ad\") "
   ]
  },
  {
   "cell_type": "code",
   "execution_count": 3,
   "id": "35c3e641-e348-477f-bf9a-c4b38c3f788d",
   "metadata": {},
   "outputs": [],
   "source": [
    "velocity_embryonic = scv.read(\"/vol/MainVol/Project_663_scRNA_Seq_MSZP85_87/23L002447/velocyto/23L002447.loom\", cache=True, validate = False)\n",
    "velocity_newborn = scv.read(\"/vol/MainVol/Project_663_scRNA_Seq_MSZP85_87/23L002448/velocyto/23L002448.loom\", cache=True, validate = False)\n",
    "velocity_afterweaning = scv.read(\"/vol/MainVol/Project_663_scRNA_Seq_MSZP85_87/23L002449/velocyto/23L002449.loom\", cache=True, validate = False)\n",
    "velocity_adult = scv.read(\"/vol/MainVol/Project_663_scRNA_Seq_MSZP85_87/23L002450/velocyto/23L002450.loom\", cache=True, validate = False)\n",
    "velocity_uninfected = scv.read(\"/vol/MainVol/Project_663_scRNA_Seq_MSZP85_87/23L002443/velocyto/23L002443.loom\", cache=True, validate = False)"
   ]
  },
  {
   "cell_type": "code",
   "execution_count": 4,
   "id": "2a493be8-6883-4e80-8491-a3a6b2459a3a",
   "metadata": {},
   "outputs": [
    {
     "data": {
      "text/plain": [
       "AnnData object with n_obs × n_vars = 35842 × 40879\n",
       "    var: 'Accession', 'Chromosome', 'End', 'Start', 'Strand'\n",
       "    layers: 'ambiguous', 'matrix', 'spliced', 'unspliced'"
      ]
     },
     "execution_count": 4,
     "metadata": {},
     "output_type": "execute_result"
    }
   ],
   "source": [
    "velocity_development = ad.concat([velocity_embryonic,velocity_newborn,velocity_afterweaning,velocity_adult,velocity_uninfected], merge=\"same\")\n",
    "velocity_development"
   ]
  },
  {
   "cell_type": "code",
   "execution_count": 5,
   "id": "36dff914-7874-46a6-8579-045e1df7096b",
   "metadata": {},
   "outputs": [],
   "source": [
    "scv.utils.clean_obs_names(adata)\n",
    "scv.utils.clean_obs_names(velocity_development)"
   ]
  },
  {
   "cell_type": "code",
   "execution_count": 6,
   "id": "c27920b7-6e82-4e76-9dd3-afc0325f367f",
   "metadata": {},
   "outputs": [],
   "source": [
    "adata_with_velocity = scv.utils.merge(adata, velocity_development)"
   ]
  },
  {
   "cell_type": "code",
   "execution_count": 7,
   "id": "3c96d287-5922-40b1-9f21-82f840c0e480",
   "metadata": {},
   "outputs": [
    {
     "data": {
      "text/plain": [
       "AnnData object with n_obs × n_vars = 30647 × 40874\n",
       "    obs: 'orig.ident', 'nCount_RNA', 'nFeature_RNA', 'Sample_ID', 'stage', 'doubletFinder', 'n_genes_by_counts', 'total_counts', 'total_counts_mt', 'pct_counts_mt', 'leiden', 'cell_type', 'dpt_pseudotime', 'sample_batch', 'initial_size_unspliced', 'initial_size_spliced', 'initial_size'\n",
       "    var: 'features', 'mt', 'n_cells_by_counts', 'mean_counts', 'pct_dropout_by_counts', 'total_counts', 'highly_variable', 'means', 'dispersions', 'dispersions_norm', 'Accession', 'Chromosome', 'End', 'Start', 'Strand'\n",
       "    uns: 'cell_type_colors', 'diffmap_evals', 'doubletFinder_colors', 'hvg', 'iroot', 'leiden', 'leiden_colors', 'leiden_sizes', 'log1p', 'neighbors', 'paga', 'pca', 'rank_genes_groups', 'stage_colors', 'umap'\n",
       "    obsm: 'X_diffmap', 'X_pca', 'X_umap'\n",
       "    varm: 'PCs'\n",
       "    layers: 'ambiguous', 'matrix', 'raw_counts', 'spliced', 'unspliced'\n",
       "    obsp: 'connectivities', 'distances'"
      ]
     },
     "execution_count": 7,
     "metadata": {},
     "output_type": "execute_result"
    }
   ],
   "source": [
    "adata_with_velocity"
   ]
  },
  {
   "cell_type": "code",
   "execution_count": 10,
   "id": "9652ec94-be16-4531-96eb-04527717158a",
   "metadata": {},
   "outputs": [
    {
     "data": {
      "text/plain": [
       "AnnData object with n_obs × n_vars = 30647 × 40874\n",
       "    obs: 'orig.ident', 'nCount_RNA', 'nFeature_RNA', 'Sample_ID', 'stage', 'doubletFinder', 'n_genes_by_counts', 'total_counts', 'total_counts_mt', 'pct_counts_mt', 'leiden', 'cell_type', 'dpt_pseudotime', 'sample_batch', 'initial_size_unspliced', 'initial_size_spliced', 'initial_size'\n",
       "    var: 'features', 'mt', 'n_cells_by_counts', 'mean_counts', 'pct_dropout_by_counts', 'total_counts', 'highly_variable', 'means', 'dispersions', 'dispersions_norm', 'Accession', 'Chromosome', 'End', 'Start', 'Strand'\n",
       "    uns: 'cell_type_colors', 'diffmap_evals', 'doubletFinder_colors', 'hvg', 'iroot', 'leiden', 'leiden_colors', 'leiden_sizes', 'log1p', 'neighbors', 'paga', 'pca', 'rank_genes_groups', 'stage_colors', 'umap'\n",
       "    obsm: 'X_diffmap', 'X_pca', 'X_umap'\n",
       "    varm: 'PCs'\n",
       "    layers: 'ambiguous', 'matrix', 'raw_counts', 'spliced', 'unspliced'\n",
       "    obsp: 'connectivities', 'distances'"
      ]
     },
     "execution_count": 10,
     "metadata": {},
     "output_type": "execute_result"
    }
   ],
   "source": [
    "adata"
   ]
  },
  {
   "cell_type": "code",
   "execution_count": 59,
   "id": "d18c049f-b798-4b9c-a97e-67057122a5d4",
   "metadata": {},
   "outputs": [],
   "source": [
    "adata_with_velocity.write_h5ad(\"/vol/ExtraVol/Development_CellTypeAssigned.h5ad\") "
   ]
  }
 ],
 "metadata": {
  "kernelspec": {
   "display_name": "Python 3 (ipykernel)",
   "language": "python",
   "name": "python3"
  },
  "language_info": {
   "codemirror_mode": {
    "name": "ipython",
    "version": 3
   },
   "file_extension": ".py",
   "mimetype": "text/x-python",
   "name": "python",
   "nbconvert_exporter": "python",
   "pygments_lexer": "ipython3",
   "version": "3.11.4"
  }
 },
 "nbformat": 4,
 "nbformat_minor": 5
}
